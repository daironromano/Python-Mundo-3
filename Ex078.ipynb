{
 "cells": [
  {
   "cell_type": "code",
   "execution_count": 40,
   "metadata": {},
   "outputs": [
    {
     "name": "stdout",
     "output_type": "stream",
     "text": [
      "------------------------------\n",
      "           Valores:           \n",
      "       [1, 5, 8, 9, 7]        \n",
      "------------------------------\n",
      "Maior valor: 9 está na posição 3º\n",
      "Menor valor: 1 está na posição 0º\n"
     ]
    }
   ],
   "source": [
    "valores = list() #criando lista vazia\n",
    "maior = 0 #maior valor\n",
    "menor = 0 #menor valor\n",
    "for contador in range(0, 5): #contador para digitar até 5 valores\n",
    "    valores.append(int(input('Digite um valor: ')))\n",
    "    if contador == 0: #laço para verificar maior e menor valor\n",
    "        maior = menor = valores[contador]\n",
    "    else:\n",
    "        if valores[contador] > maior:\n",
    "            maior = valores[contador]\n",
    "        if valores[contador] < menor:\n",
    "            menor = valores[contador]\n",
    "\n",
    "print('-'*30)\n",
    "print(f'{\"Valores:\":^30}')\n",
    "print(f'{str(valores):^30}')\n",
    "print('-'*30)\n",
    "print(f'Maior valor: {maior} está na posição', end=' ')\n",
    "for i, v in enumerate(valores): #verificando a posição do maior valor\n",
    "    if v == maior:\n",
    "        print(f'{i}º')\n",
    "print(f'Menor valor: {menor} está na posição', end=' ')\n",
    "for i, v in enumerate(valores): #verificando a posição do menor valor\n",
    "    if v == menor:\n",
    "        print(f'{i}º')"
   ]
  }
 ],
 "metadata": {
  "kernelspec": {
   "display_name": "Python 3",
   "language": "python",
   "name": "python3"
  },
  "language_info": {
   "codemirror_mode": {
    "name": "ipython",
    "version": 3
   },
   "file_extension": ".py",
   "mimetype": "text/x-python",
   "name": "python",
   "nbconvert_exporter": "python",
   "pygments_lexer": "ipython3",
   "version": "3.11.9"
  }
 },
 "nbformat": 4,
 "nbformat_minor": 2
}
