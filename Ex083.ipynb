{
 "cells": [
  {
   "cell_type": "code",
   "execution_count": 2,
   "metadata": {},
   "outputs": [
    {
     "name": "stdout",
     "output_type": "stream",
     "text": [
      "Sua expressão está válida.\n"
     ]
    }
   ],
   "source": [
    "expressao = str(input('Digite a expressão'))\n",
    "pilha = list()\n",
    "for simb in expressao:\n",
    "    if simb == '(':\n",
    "        pilha.append('(')\n",
    "    elif simb == ')':\n",
    "        if len(pilha) > 0:\n",
    "            pilha.pop()\n",
    "        else:\n",
    "            pilha.append(')')\n",
    "            break\n",
    "if len(pilha) == 0:\n",
    "    print('Sua expressão está válida.')\n",
    "else:\n",
    "    print('Sua expressão está inválida.')"
   ]
  }
 ],
 "metadata": {
  "kernelspec": {
   "display_name": "Python 3",
   "language": "python",
   "name": "python3"
  },
  "language_info": {
   "codemirror_mode": {
    "name": "ipython",
    "version": 3
   },
   "file_extension": ".py",
   "mimetype": "text/x-python",
   "name": "python",
   "nbconvert_exporter": "python",
   "pygments_lexer": "ipython3",
   "version": "3.11.9"
  }
 },
 "nbformat": 4,
 "nbformat_minor": 2
}
