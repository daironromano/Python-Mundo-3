{
 "cells": [
  {
   "cell_type": "code",
   "execution_count": 16,
   "metadata": {},
   "outputs": [
    {
     "name": "stdout",
     "output_type": "stream",
     "text": [
      "Lista completa: [2, 6, 8, 9]\n",
      "Valores par: [2, 6, 8]\n",
      "Valores impar: [9]\n"
     ]
    }
   ],
   "source": [
    "lista = [] #cria uma lista vazia\n",
    "par = [] #cria uma lista vazia\n",
    "impar = [] #cria uma lista vazia\n",
    "while True: #laço infinito\n",
    "    lista.append(int(input('Digite um valor: ')))\n",
    "    resp = str(input('Deseja continuar? [S]/[N]'))\n",
    "    if resp in 'nN':\n",
    "        break\n",
    "for v in lista: #percorre a lista criada\n",
    "    if v % 2 == 0: #verifica se é par\n",
    "        par.append(v)\n",
    "    else: #se não for par, é impar. \n",
    "        impar.append(v)\n",
    "\n",
    "print(f'Lista completa: {lista}')\n",
    "print(f'Valores par: {par}')\n",
    "print(f'Valores impar: {impar}')"
   ]
  }
 ],
 "metadata": {
  "kernelspec": {
   "display_name": "Python 3",
   "language": "python",
   "name": "python3"
  },
  "language_info": {
   "codemirror_mode": {
    "name": "ipython",
    "version": 3
   },
   "file_extension": ".py",
   "mimetype": "text/x-python",
   "name": "python",
   "nbconvert_exporter": "python",
   "pygments_lexer": "ipython3",
   "version": "3.11.9"
  }
 },
 "nbformat": 4,
 "nbformat_minor": 2
}
