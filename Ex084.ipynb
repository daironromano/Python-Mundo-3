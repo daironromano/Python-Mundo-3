{
 "cells": [
  {
   "cell_type": "code",
   "execution_count": 15,
   "metadata": {},
   "outputs": [
    {
     "name": "stdout",
     "output_type": "stream",
     "text": [
      "[['Dairon', 63], ['Sara', 60], ['Gabi', 64], ['Yuri', 70]]\n",
      "Pessoas cadastradas: 4\n",
      "Pessoa menos pesada: Sara\n",
      "Pessoa mais pesada: Yuri\n"
     ]
    }
   ],
   "source": [
    "dados = []\n",
    "temp = list()\n",
    "mai = men = 0\n",
    "while True:\n",
    "    temp.append(str(input('Nome: ')))\n",
    "    temp.append((int(input('Peso: '))))\n",
    "    if len(dados) == 0:\n",
    "        mai = men = temp[1]\n",
    "    else:\n",
    "        if temp[1] > mai:\n",
    "            mai = temp[1]\n",
    "        if temp[1] < men:\n",
    "            men = temp[1]\n",
    "    dados.append(temp[:])\n",
    "    temp.clear()\n",
    "    continuar = str(input('Deseja continuar? [S]/[N]'))\n",
    "    if continuar in 'nN':\n",
    "        break\n",
    "\n",
    "print(dados)\n",
    "print(f'Pessoas cadastradas: {len(dados)}')\n",
    "for p in dados:\n",
    "    if p[1] == mai:\n",
    "        print(f'Pessoa mais pesada: {p[0]}')\n",
    "    if p[1] == men:\n",
    "        print(f'Pessoa menos pesada: {p[0]}')"
   ]
  },
  {
   "cell_type": "code",
   "execution_count": null,
   "metadata": {},
   "outputs": [],
   "source": []
  }
 ],
 "metadata": {
  "kernelspec": {
   "display_name": "Python 3",
   "language": "python",
   "name": "python3"
  },
  "language_info": {
   "codemirror_mode": {
    "name": "ipython",
    "version": 3
   },
   "file_extension": ".py",
   "mimetype": "text/x-python",
   "name": "python",
   "nbconvert_exporter": "python",
   "pygments_lexer": "ipython3",
   "version": "3.11.9"
  }
 },
 "nbformat": 4,
 "nbformat_minor": 2
}
