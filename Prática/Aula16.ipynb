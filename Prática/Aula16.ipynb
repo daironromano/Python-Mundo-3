{
 "cells": [
  {
   "cell_type": "code",
   "execution_count": 33,
   "metadata": {},
   "outputs": [
    {
     "name": "stdout",
     "output_type": "stream",
     "text": [
      "('burgue', 'pizza', 'suco', 'pudim')\n",
      "eu vou comer burgue, na posição 0\n",
      "eu vou comer pizza, na posição 1\n",
      "eu vou comer suco, na posição 2\n",
      "eu vou comer pudim, na posição 3\n",
      "eu vou comer burgue, na posição 0\n",
      "eu vou comer pizza, na posição 1\n",
      "eu vou comer suco, na posição 2\n",
      "eu vou comer pudim, na posição 3\n",
      "eu vou comer burgue\n",
      "eu vou comer pizza\n",
      "eu vou comer suco\n",
      "eu vou comer pudim\n"
     ]
    }
   ],
   "source": [
    "#TUPLAS SÃO IMUTÁVEIS\n",
    "lanche = ('burgue', 'pizza', 'suco', 'pudim')\n",
    "print(lanche)\n",
    "\n",
    "#Elemento\n",
    "for comida in lanche:\n",
    "    print(f'eu vou comer {comida}')\n",
    "#Elemento e posição\n",
    "for pos, comida in enumerate(lanche):\n",
    "    print(f'eu vou comer {comida}, na posição {pos}')\n",
    "#Elemento e posição\n",
    "for cont in range(0, len(lanche)):\n",
    "    print(f'eu vou comer {lanche[cont]}, na posição {cont}')"
   ]
  },
  {
   "cell_type": "code",
   "execution_count": 36,
   "metadata": {},
   "outputs": [
    {
     "name": "stdout",
     "output_type": "stream",
     "text": [
      "['burgue', 'pizza', 'pudim', 'suco']\n",
      "('burgue', 'pizza', 'suco', 'pudim')\n",
      "[1, 5, 7, 9]\n"
     ]
    }
   ],
   "source": [
    "lanche = ('burgue', 'pizza', 'suco', 'pudim')\n",
    "print(sorted(lanche))\n",
    "print(lanche)\n",
    "num = (1, 5, 9, 7)\n",
    "print(sorted(num))"
   ]
  },
  {
   "cell_type": "code",
   "execution_count": 51,
   "metadata": {},
   "outputs": [
    {
     "name": "stdout",
     "output_type": "stream",
     "text": [
      "(1, 5, 4, 5, 6, 8)\n",
      "Aparece o N° 5: 2 vezes\n",
      "1\n",
      "1\n"
     ]
    }
   ],
   "source": [
    "a = (1, 5, 4)\n",
    "b = (5, 6, 8)\n",
    "c = a + b \n",
    "print(c)\n",
    "print(f'Aparece o N° 5: {c.count(5)} vezes')\n",
    "print(c.index(5))\n",
    "print(c.index(5, 1))"
   ]
  },
  {
   "cell_type": "code",
   "execution_count": 52,
   "metadata": {},
   "outputs": [
    {
     "name": "stdout",
     "output_type": "stream",
     "text": [
      "('Dairon', 26, 'Masculino', '60')\n"
     ]
    }
   ],
   "source": [
    "pessoa = ('Dairon', 26, 'Masculino', '60')\n",
    "print(pessoa)"
   ]
  }
 ],
 "metadata": {
  "kernelspec": {
   "display_name": "Python 3",
   "language": "python",
   "name": "python3"
  },
  "language_info": {
   "codemirror_mode": {
    "name": "ipython",
    "version": 3
   },
   "file_extension": ".py",
   "mimetype": "text/x-python",
   "name": "python",
   "nbconvert_exporter": "python",
   "pygments_lexer": "ipython3",
   "version": "3.11.9"
  }
 },
 "nbformat": 4,
 "nbformat_minor": 2
}
