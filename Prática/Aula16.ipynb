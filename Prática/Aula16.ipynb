{
 "cells": [
  {
   "cell_type": "code",
   "execution_count": 32,
   "metadata": {},
   "outputs": [],
   "source": [
    "lanche = ('Burguer', 'Suco', 'Pizza', 'Pudim', 'Batata Frita')"
   ]
  },
  {
   "cell_type": "code",
   "execution_count": 13,
   "metadata": {},
   "outputs": [
    {
     "name": "stdout",
     "output_type": "stream",
     "text": [
      "('Burguer', 'Suco')\n",
      "('Suco', 'Pizza', 'Pudim')\n"
     ]
    }
   ],
   "source": [
    "print(lanche[:2]) #ignora o último elemento nesse tipo de fatiamente\n",
    "print(lanche[-3:]) #Começa do suco e vai até o final"
   ]
  },
  {
   "cell_type": "code",
   "execution_count": 15,
   "metadata": {},
   "outputs": [
    {
     "ename": "TypeError",
     "evalue": "'tuple' object does not support item assignment",
     "output_type": "error",
     "traceback": [
      "\u001b[1;31m---------------------------------------------------------------------------\u001b[0m",
      "\u001b[1;31mTypeError\u001b[0m                                 Traceback (most recent call last)",
      "Cell \u001b[1;32mIn[15], line 2\u001b[0m\n\u001b[0;32m      1\u001b[0m \u001b[38;5;66;03m#Tuplas são imutáveis\u001b[39;00m\n\u001b[1;32m----> 2\u001b[0m \u001b[43mlanche\u001b[49m\u001b[43m[\u001b[49m\u001b[38;5;241;43m1\u001b[39;49m\u001b[43m]\u001b[49m \u001b[38;5;241m=\u001b[39m \u001b[38;5;124m'\u001b[39m\u001b[38;5;124mRegrigerante\u001b[39m\u001b[38;5;124m'\u001b[39m\n",
      "\u001b[1;31mTypeError\u001b[0m: 'tuple' object does not support item assignment"
     ]
    }
   ],
   "source": [
    "#Tuplas são imutáveis\n",
    "lanche[1] = 'Regrigerante'"
   ]
  },
  {
   "cell_type": "code",
   "execution_count": 29,
   "metadata": {},
   "outputs": [
    {
     "name": "stdout",
     "output_type": "stream",
     "text": [
      "Eu vou comer Burguer\n",
      "Eu vou comer Suco\n",
      "Eu vou comer Pizza\n",
      "Eu vou comer Pudim\n",
      "Eu vou comer Batata-Frita\n",
      "Comi demais!\n"
     ]
    }
   ],
   "source": [
    "for comida in lanche:\n",
    "    print(f'Eu vou comer {comida}')\n",
    "print('Comi demais!')"
   ]
  },
  {
   "cell_type": "code",
   "execution_count": 34,
   "metadata": {},
   "outputs": [
    {
     "name": "stdout",
     "output_type": "stream",
     "text": [
      "Eu vou comer Burguer na posição 0\n",
      "Eu vou comer Suco na posição 1\n",
      "Eu vou comer Pizza na posição 2\n",
      "Eu vou comer Pudim na posição 3\n",
      "Eu vou comer Batata Frita na posição 4\n"
     ]
    }
   ],
   "source": [
    "#me dá a posição e o dado\n",
    "for cont in range(0, len(lanche)):\n",
    "    print(f'Eu vou comer {lanche[cont]} na posição {cont}')"
   ]
  },
  {
   "cell_type": "code",
   "execution_count": 36,
   "metadata": {},
   "outputs": [
    {
     "name": "stdout",
     "output_type": "stream",
     "text": [
      "Eu vou comer Burguer na posição 0\n",
      "Eu vou comer Suco na posição 1\n",
      "Eu vou comer Pizza na posição 2\n",
      "Eu vou comer Pudim na posição 3\n",
      "Eu vou comer Batata Frita na posição 4\n"
     ]
    }
   ],
   "source": [
    "#me dá a posição e o dado\n",
    "for pos, comida in enumerate(lanche):\n",
    "        print(f'Eu vou comer {comida} na posição {pos}')"
   ]
  },
  {
   "cell_type": "code",
   "execution_count": 40,
   "metadata": {},
   "outputs": [
    {
     "name": "stdout",
     "output_type": "stream",
     "text": [
      "['Batata Frita', 'Burguer', 'Pizza', 'Pudim', 'Suco']\n",
      "('Burguer', 'Suco', 'Pizza', 'Pudim', 'Batata Frita')\n"
     ]
    }
   ],
   "source": [
    "print(sorted(lanche)) #Mostra em ordem\n",
    "print(lanche)"
   ]
  },
  {
   "cell_type": "code",
   "execution_count": 62,
   "metadata": {},
   "outputs": [
    {
     "name": "stdout",
     "output_type": "stream",
     "text": [
      "(5, 8, 1, 2, 2, 5, 4)\n",
      "[1, 2, 2, 4, 5, 5, 8]\n",
      "2\n",
      "0\n",
      "O número 5 aparece 2 na posiçãa 0\n"
     ]
    }
   ],
   "source": [
    "a = (2, 5, 4)\n",
    "b = (5, 8, 1, 2)\n",
    "c = b + a #concatena \n",
    "print(c)\n",
    "len(c) #tamanho\n",
    "print(sorted(c)) #organiza\n",
    "print(c.count(5)) #conta ocorrencias de elemento dentro do parentese\n",
    "print(c.index(5)) #ve a posição do elemento do parentes\n",
    "print(f'O número 5 aparece {c.count(5)} na posiçãa {c.index(5)}')\n"
   ]
  },
  {
   "cell_type": "code",
   "execution_count": 67,
   "metadata": {},
   "outputs": [
    {
     "name": "stdout",
     "output_type": "stream",
     "text": [
      "('Dairon', '27', 'Masc', '60.65')\n"
     ]
    },
    {
     "ename": "NameError",
     "evalue": "name 'pessoa' is not defined",
     "output_type": "error",
     "traceback": [
      "\u001b[1;31m---------------------------------------------------------------------------\u001b[0m",
      "\u001b[1;31mNameError\u001b[0m                                 Traceback (most recent call last)",
      "Cell \u001b[1;32mIn[67], line 4\u001b[0m\n\u001b[0;32m      2\u001b[0m \u001b[38;5;28mprint\u001b[39m(pessoa)\n\u001b[0;32m      3\u001b[0m \u001b[38;5;28;01mdel\u001b[39;00m(pessoa) \u001b[38;5;66;03m#apaga a tupla inteira\u001b[39;00m\n\u001b[1;32m----> 4\u001b[0m \u001b[38;5;28mprint\u001b[39m(\u001b[43mpessoa\u001b[49m)\n",
      "\u001b[1;31mNameError\u001b[0m: name 'pessoa' is not defined"
     ]
    }
   ],
   "source": [
    "pessoa = ('Dairon', '27', 'Masc', '60.65')\n",
    "print(pessoa)\n",
    "del(pessoa) #apaga a tupla inteira\n",
    "print(pessoa)"
   ]
  }
 ],
 "metadata": {
  "kernelspec": {
   "display_name": "Python 3",
   "language": "python",
   "name": "python3"
  },
  "language_info": {
   "codemirror_mode": {
    "name": "ipython",
    "version": 3
   },
   "file_extension": ".py",
   "mimetype": "text/x-python",
   "name": "python",
   "nbconvert_exporter": "python",
   "pygments_lexer": "ipython3",
   "version": "3.11.9"
  }
 },
 "nbformat": 4,
 "nbformat_minor": 2
}
