{
 "cells": [
  {
   "cell_type": "code",
   "execution_count": 53,
   "metadata": {},
   "outputs": [
    {
     "name": "stdout",
     "output_type": "stream",
     "text": [
      "[2, 5, 9, 1]\n"
     ]
    }
   ],
   "source": [
    "num = [2, 5, 9, 1]\n",
    "print(num)"
   ]
  },
  {
   "cell_type": "code",
   "execution_count": 54,
   "metadata": {},
   "outputs": [
    {
     "name": "stdout",
     "output_type": "stream",
     "text": [
      "[2, 5, 4, 1]\n"
     ]
    }
   ],
   "source": [
    "num[2] = 4 # altera o valor da posição dois \n",
    "print(num)"
   ]
  },
  {
   "cell_type": "code",
   "execution_count": 55,
   "metadata": {},
   "outputs": [
    {
     "name": "stdout",
     "output_type": "stream",
     "text": [
      "[2, 5, 4, 1, 7]\n"
     ]
    }
   ],
   "source": [
    "num.append(7)\n",
    "print(num)"
   ]
  },
  {
   "cell_type": "code",
   "execution_count": 56,
   "metadata": {},
   "outputs": [
    {
     "name": "stdout",
     "output_type": "stream",
     "text": [
      "[7, 5, 4, 2, 1]\n"
     ]
    }
   ],
   "source": [
    "num.sort() # coloca em ordem a lista\n",
    "num.sort(reverse=True) #coloca em ordem \"reversa\"\n",
    "print(num)"
   ]
  },
  {
   "cell_type": "code",
   "execution_count": 57,
   "metadata": {},
   "outputs": [
    {
     "name": "stdout",
     "output_type": "stream",
     "text": [
      "[7, 5, 0, 4, 2, 1]\n"
     ]
    }
   ],
   "source": [
    "num.insert(2, 0) # na posição 2 adiciona o 0\n",
    "print(num)"
   ]
  },
  {
   "cell_type": "code",
   "execution_count": 58,
   "metadata": {},
   "outputs": [
    {
     "name": "stdout",
     "output_type": "stream",
     "text": [
      "Tem 6 elementos\n"
     ]
    }
   ],
   "source": [
    "print(f'Tem {len(num)} elementos') #o tamanho da lista"
   ]
  },
  {
   "cell_type": "code",
   "execution_count": 59,
   "metadata": {},
   "outputs": [
    {
     "name": "stdout",
     "output_type": "stream",
     "text": [
      "[7, 5, 0, 4, 2]\n"
     ]
    }
   ],
   "source": [
    "num.pop() #remove o último elemento da lista\n",
    "print(num)"
   ]
  },
  {
   "cell_type": "code",
   "execution_count": 66,
   "metadata": {},
   "outputs": [
    {
     "name": "stdout",
     "output_type": "stream",
     "text": [
      "[7, 5, 2, 0, 4, 2]\n"
     ]
    }
   ],
   "source": [
    "num.insert(2, 2) #insere um valor na posição especificada\n",
    "print(num)"
   ]
  },
  {
   "cell_type": "code",
   "execution_count": 67,
   "metadata": {},
   "outputs": [
    {
     "name": "stdout",
     "output_type": "stream",
     "text": [
      "[7, 5, 0, 4, 2]\n"
     ]
    }
   ],
   "source": [
    "num.remove(2) #elimina o primeiro elemento encontrado\n",
    "print(num)"
   ]
  },
  {
   "cell_type": "code",
   "execution_count": 71,
   "metadata": {},
   "outputs": [
    {
     "name": "stdout",
     "output_type": "stream",
     "text": [
      "Não achei o número 4\n"
     ]
    }
   ],
   "source": [
    "if 9 in num: # remove o elemento somente se ele estiver na lista\n",
    "    num.remove(4)\n",
    "else:\n",
    "    print('Não achei o número 9')"
   ]
  },
  {
   "cell_type": "code",
   "execution_count": 86,
   "metadata": {},
   "outputs": [
    {
     "name": "stdout",
     "output_type": "stream",
     "text": [
      "[5, 9, 4]\n",
      "5... 9... 4... Cheguei ao final da lista\n",
      "\n",
      "Na posição: 0 encontrei o valor 5\n",
      "Na posição: 1 encontrei o valor 9\n",
      "Na posição: 2 encontrei o valor 4\n",
      "Cheguei ao final da lista\n"
     ]
    }
   ],
   "source": [
    "\n",
    "valores = [] #cria uma lista vazia\n",
    "valores.append(5) #adicona o 5 a lista\n",
    "valores.append(9) #adicona o 9 a lista\n",
    "valores.append(4) #adicona o 4 a lista\n",
    "print(valores)\n",
    "\n",
    "for v in valores: #mostra os valores da lista formatados\n",
    "    print(f'{v}... ', end='')\n",
    "print('Cheguei ao final da lista')\n",
    "for c, v in enumerate(valores): #mostra os valores lista e a posição\n",
    "    print(f'\\nNa posição: {c} encontrei o valor {v}', end='') \n",
    "print('\\nCheguei ao final da lista')"
   ]
  },
  {
   "cell_type": "code",
   "execution_count": null,
   "metadata": {},
   "outputs": [
    {
     "ename": "SyntaxError",
     "evalue": "invalid syntax (3968615714.py, line 5)",
     "output_type": "error",
     "traceback": [
      "\u001b[1;36m  Cell \u001b[1;32mIn[99], line 5\u001b[1;36m\u001b[0m\n\u001b[1;33m    print(f{'Você chegou ao final da lista':^30})\u001b[0m\n\u001b[1;37m           ^\u001b[0m\n\u001b[1;31mSyntaxError\u001b[0m\u001b[1;31m:\u001b[0m invalid syntax\n"
     ]
    }
   ],
   "source": [
    "valores = list() #cria uma lista vazia\n",
    "for cont in range(0, 5): #cria um laço que se repete 5x\n",
    "    valores.append(int(input('Digite um valor:'))) #adicona valores dentro da lista\n",
    "print(valores)\n",
    "print('Você chegou ao final da lista')"
   ]
  },
  {
   "cell_type": "code",
   "execution_count": 98,
   "metadata": {},
   "outputs": [
    {
     "name": "stdout",
     "output_type": "stream",
     "text": [
      "A: [2, 3, 4, 7]\n",
      "B: [2, 3, 8, 7]\n"
     ]
    }
   ],
   "source": [
    "a = [2, 3, 4, 7]\n",
    "b = a #igualar lista a outra o python cria uma ligação entre as listas\n",
    "b = a[:] #cria uma cópia de todos os valores de a e joga em b\n",
    "b[2] = 8 #altera o valores na posição 2 pra 8\n",
    "print(f'A: {a}')\n",
    "print(f'B: {b}')"
   ]
  }
 ],
 "metadata": {
  "kernelspec": {
   "display_name": "Python 3",
   "language": "python",
   "name": "python3"
  },
  "language_info": {
   "codemirror_mode": {
    "name": "ipython",
    "version": 3
   },
   "file_extension": ".py",
   "mimetype": "text/x-python",
   "name": "python",
   "nbconvert_exporter": "python",
   "pygments_lexer": "ipython3",
   "version": "3.11.9"
  }
 },
 "nbformat": 4,
 "nbformat_minor": 2
}
