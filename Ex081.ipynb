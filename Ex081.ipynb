{
 "cells": [
  {
   "cell_type": "code",
   "execution_count": 24,
   "metadata": {},
   "outputs": [
    {
     "name": "stdout",
     "output_type": "stream",
     "text": [
      "---------------------------------------\n",
      "         INFORMAÇÕES DA LISTA          \n",
      "---------------------------------------\n",
      "Valores digitados:                    4                    \n",
      "Ordem decrescente:         [9, 5, 3, 1]\n",
      "Nº 5 está contido:                  SIM\n"
     ]
    }
   ],
   "source": [
    "lista = list()\n",
    "while True:\n",
    "    valor = int(input('Digite um valor: '))\n",
    "    lista.append(valor)\n",
    "    pergunta = str(input('Deseja continuar? [S]/[N]')).strip()\n",
    "    if pergunta in 'Nn':\n",
    "        break\n",
    "\n",
    "print('-'*39)  \n",
    "print(f'{\"INFORMAÇÕES DA LISTA\":^39}')\n",
    "print('-'*39)  \n",
    "print(f'Valores digitados: {str(len(lista)):^40}')\n",
    "print(f'Ordem decrescente: {str(sorted(lista, reverse=True)):>20}')\n",
    "print(f'Nº 5 está contido:',end='')\n",
    "if 5 in lista:\n",
    "    print(f'{\"SIM\":>21}')\n",
    "else:\n",
    "    print(f'{\"NÃO\":>21}')"
   ]
  }
 ],
 "metadata": {
  "kernelspec": {
   "display_name": "Python 3",
   "language": "python",
   "name": "python3"
  },
  "language_info": {
   "codemirror_mode": {
    "name": "ipython",
    "version": 3
   },
   "file_extension": ".py",
   "mimetype": "text/x-python",
   "name": "python",
   "nbconvert_exporter": "python",
   "pygments_lexer": "ipython3",
   "version": "3.11.9"
  }
 },
 "nbformat": 4,
 "nbformat_minor": 2
}
