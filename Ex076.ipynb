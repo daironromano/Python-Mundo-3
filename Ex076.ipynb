{
 "cells": [
  {
   "cell_type": "code",
   "execution_count": 58,
   "metadata": {},
   "outputs": [
    {
     "name": "stdout",
     "output_type": "stream",
     "text": [
      "----------------------------------------\n",
      "           LISTAGEM DE PREÇOS           \n",
      "----------------------------------------\n",
      "Borracha......................R$   5.00\n",
      "Lápis.........................R$   1.00\n",
      "Caderno.......................R$   7.50\n",
      "Mochila.......................R$  15.00\n",
      "----------------------------------------\n"
     ]
    }
   ],
   "source": [
    "lista = (\"Borracha\", 5.00, \"Lápis\", 1.00, \"Caderno\", 7.50, \"Mochila\", 15.00)\n",
    "\n",
    "print('-'*40)\n",
    "print(f'{\"LISTAGEM DE PREÇOS\":^40}')\n",
    "print('-'*40)\n",
    "for valor in range(0, len(lista)):\n",
    "    if valor % 2 == 0:\n",
    "        print(f'{lista[valor]:.<30}',end='')\n",
    "    else:\n",
    "        print(f'R${lista[valor]:>7.2f}')\n",
    "print('-'*40)"
   ]
  }
 ],
 "metadata": {
  "kernelspec": {
   "display_name": "Python 3",
   "language": "python",
   "name": "python3"
  },
  "language_info": {
   "codemirror_mode": {
    "name": "ipython",
    "version": 3
   },
   "file_extension": ".py",
   "mimetype": "text/x-python",
   "name": "python",
   "nbconvert_exporter": "python",
   "pygments_lexer": "ipython3",
   "version": "3.11.9"
  }
 },
 "nbformat": 4,
 "nbformat_minor": 2
}
