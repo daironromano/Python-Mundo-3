{
 "cells": [
  {
   "cell_type": "code",
   "execution_count": 7,
   "metadata": {},
   "outputs": [
    {
     "name": "stdout",
     "output_type": "stream",
     "text": [
      "[1, 5, 6, 7, 8]\n"
     ]
    }
   ],
   "source": [
    "lista = [] #Lista vazia\n",
    "for c in range(0, 5):\n",
    "    n = int(input('Digite um valor: '))\n",
    "    if c == 0 or n > lista[-1]:\n",
    "        lista.append(n)\n",
    "    else:\n",
    "        pos = 0\n",
    "        while pos < len(lista):\n",
    "            if n <= lista[pos]:\n",
    "                lista.insert(pos, n)\n",
    "                break\n",
    "            pos += 1\n",
    "print(lista)"
   ]
  }
 ],
 "metadata": {
  "kernelspec": {
   "display_name": "Python 3",
   "language": "python",
   "name": "python3"
  },
  "language_info": {
   "codemirror_mode": {
    "name": "ipython",
    "version": 3
   },
   "file_extension": ".py",
   "mimetype": "text/x-python",
   "name": "python",
   "nbconvert_exporter": "python",
   "pygments_lexer": "ipython3",
   "version": "3.11.9"
  }
 },
 "nbformat": 4,
 "nbformat_minor": 2
}
