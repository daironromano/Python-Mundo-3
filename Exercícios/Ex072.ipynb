{
 "cells": [
  {
   "cell_type": "code",
   "execution_count": 1,
   "metadata": {},
   "outputs": [
    {
     "name": "stdout",
     "output_type": "stream",
     "text": [
      "Você digitou o número: Cinco\n",
      "Você digitou o número: Dois\n",
      "Você digitou o número: Seis\n",
      "Obrigado por utilizar nosso programa!\n"
     ]
    }
   ],
   "source": [
    "#Desafio 72\n",
    "valores = ('Zero', 'Um', 'Dois', 'Três', 'Quatro', 'Cinco', 'Seis', 'Sete', 'Oito', 'Nove', 'Dez', 'Onze', 'Doze', 'Treze', 'Quartorzze', 'Quinze', 'Dezesseis', 'Dezessete', 'Dezoito', 'Dezenove', 'Vinte')\n",
    "\n",
    "while True:\n",
    "    numero = int(input('Digite um valor (entre 0 e 20): '))\n",
    "    if  0 <= numero <= 20:\n",
    "        break\n",
    "    print('Tente novamente.', end='')\n",
    "print(f'Você digitou o número: {valores[numero]}')\n",
    "\n",
    "while True:\n",
    "    continuar = str(input('Quer continuar? [S/N]')).strip().upper()\n",
    "    if continuar in 'Ss':\n",
    "        while True:\n",
    "            numero = int(input('Digite um valor (entre 0 e 20): '))\n",
    "            if  0 <= numero <= 20:\n",
    "                break\n",
    "        print(f'Você digitou o número: {valores[numero]}')\n",
    "    if continuar in 'Nn':\n",
    "        print('Obrigado por utilizar nosso programa!')\n",
    "        break\n",
    "\n",
    "\n",
    "    "
   ]
  },
  {
   "cell_type": "code",
   "execution_count": null,
   "metadata": {},
   "outputs": [],
   "source": []
  }
 ],
 "metadata": {
  "kernelspec": {
   "display_name": "Python 3",
   "language": "python",
   "name": "python3"
  },
  "language_info": {
   "codemirror_mode": {
    "name": "ipython",
    "version": 3
   },
   "file_extension": ".py",
   "mimetype": "text/x-python",
   "name": "python",
   "nbconvert_exporter": "python",
   "pygments_lexer": "ipython3",
   "version": "3.11.9"
  }
 },
 "nbformat": 4,
 "nbformat_minor": 2
}
