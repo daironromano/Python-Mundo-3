{
 "cells": [
  {
   "cell_type": "code",
   "execution_count": 17,
   "metadata": {},
   "outputs": [
    {
     "name": "stdout",
     "output_type": "stream",
     "text": [
      "------------------------------\n",
      "           Valores            \n",
      "------------------------------\n",
      "Maior valor: 6 está na posição: 4\n",
      "Menor valor: 1 está na posição: 4\n"
     ]
    }
   ],
   "source": [
    "valores = list()\n",
    "for contador in range(0, 5):\n",
    "    valores.append(int(input('Digite um valor: ')))\n",
    "print('-'*30)\n",
    "print(f'{\"Valores\":^30}')\n",
    "print('-'*30)\n",
    "print(f'Maior valor: {max(valores)} está na posição: {contador}')\n",
    "print(f'Menor valor: {min(valores)} está na posição: {contador}')"
   ]
  }
 ],
 "metadata": {
  "kernelspec": {
   "display_name": "Python 3",
   "language": "python",
   "name": "python3"
  },
  "language_info": {
   "codemirror_mode": {
    "name": "ipython",
    "version": 3
   },
   "file_extension": ".py",
   "mimetype": "text/x-python",
   "name": "python",
   "nbconvert_exporter": "python",
   "pygments_lexer": "ipython3",
   "version": "3.11.9"
  }
 },
 "nbformat": 4,
 "nbformat_minor": 2
}
