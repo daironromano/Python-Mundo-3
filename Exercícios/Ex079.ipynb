{
 "cells": [
  {
   "cell_type": "code",
   "execution_count": 32,
   "metadata": {},
   "outputs": [
    {
     "name": "stdout",
     "output_type": "stream",
     "text": [
      "Valor 1 adicionado com sucesso\n",
      "Valor 5 adicionado com sucesso\n",
      "Valor 9 adicionado com sucesso\n",
      "Lista ordenada: [1, 5, 9]\n"
     ]
    }
   ],
   "source": [
    "lista = [] #Cria uma lista vazia\n",
    "while True: #laço infinito\n",
    "    usuario = int(input('Digite um valor: '))\n",
    "    if usuario not in lista:  #operador lógico para verificar se o valor já existe ou não\n",
    "        lista.append(usuario)\n",
    "        print(f'Valor {usuario} adicionado com sucesso')\n",
    "    else:\n",
    "        print(f'Esse valor já existe na lista')\n",
    "    continuar = str(input('Deseja continuar? [S]/[N]')).strip().upper()\n",
    "    if continuar in 'nN':\n",
    "        break #interrompe o laço \n",
    "print(f'Lista ordenada: {sorted(lista)}')"
   ]
  }
 ],
 "metadata": {
  "kernelspec": {
   "display_name": "Python 3",
   "language": "python",
   "name": "python3"
  },
  "language_info": {
   "codemirror_mode": {
    "name": "ipython",
    "version": 3
   },
   "file_extension": ".py",
   "mimetype": "text/x-python",
   "name": "python",
   "nbconvert_exporter": "python",
   "pygments_lexer": "ipython3",
   "version": "3.11.9"
  }
 },
 "nbformat": 4,
 "nbformat_minor": 2
}
