{
 "cells": [
  {
   "cell_type": "code",
   "execution_count": 25,
   "metadata": {},
   "outputs": [
    {
     "name": "stdout",
     "output_type": "stream",
     "text": [
      "-=-=-=-=-=-=-=-=-=-=-=-=-=-=-=\n",
      "Times: ('Palmeiras', 'Bragantino', 'Flamengo', 'Cruzeiro', 'Fluminense', 'Bahia', 'Ceará', 'Corinthians', 'Internacional', 'Atlético-MG', 'São Paulo', 'Grêmio', 'Vasco', 'Chapecoense', 'Mirassol', 'Fortaleza', 'Vitória', 'Santos', 'Sport')\n",
      "-=-=-=-=-=-=-=-=-=-=-=-=-=-=-=\n",
      "Os 5° Primeiros: ('Palmeiras', 'Bragantino', 'Flamengo', 'Cruzeiro', 'Fluminense')\n",
      "-=-=-=-=-=-=-=-=-=-=-=-=-=-=-=\n",
      "Os 4 últimos são: ('Fortaleza', 'Vitória', 'Santos', 'Sport')\n",
      "-=-=-=-=-=-=-=-=-=-=-=-=-=-=-=\n",
      "Em ordem alfabética: ['Atlético-MG', 'Bahia', 'Bragantino', 'Ceará', 'Chapecoense', 'Corinthians', 'Cruzeiro', 'Flamengo', 'Fluminense', 'Fortaleza', 'Grêmio', 'Internacional', 'Mirassol', 'Palmeiras', 'Santos', 'Sport', 'São Paulo', 'Vasco', 'Vitória']\n",
      "-=-=-=-=-=-=-=-=-=-=-=-=-=-=-=\n",
      "O Chapecoense está na 14ª posição.\n"
     ]
    }
   ],
   "source": [
    "#Desafio 73\n",
    "\n",
    "times = ('Palmeiras', 'Bragantino', 'Flamengo', 'Cruzeiro', 'Fluminense', 'Bahia',  'Ceará', 'Corinthians', 'Internacional', 'Atlético-MG', 'São Paulo', 'Grêmio', 'Vasco', 'Chapecoense', 'Mirassol', 'Fortaleza', 'Vitória', 'Santos', 'Sport')\t\n",
    "\n",
    "print('-=' *15)\n",
    "print(f'Times: {times}')\n",
    "print('-=' *15)\n",
    "print(f'Os 5° Primeiros: {times[0:5]}')\n",
    "print('-=' *15)\n",
    "print(f'Os 4 últimos são: {times[-4:]}')\n",
    "print('-=' *15)\n",
    "print(f'Em ordem alfabética: {sorted(times)}')\n",
    "print('-=' *15)\n",
    "print(f'O Chapecoense está na {times.index(\"Chapecoense\")+1}ª posição.')\n",
    "\n",
    "\n"
   ]
  }
 ],
 "metadata": {
  "kernelspec": {
   "display_name": "Python 3",
   "language": "python",
   "name": "python3"
  },
  "language_info": {
   "codemirror_mode": {
    "name": "ipython",
    "version": 3
   },
   "file_extension": ".py",
   "mimetype": "text/x-python",
   "name": "python",
   "nbconvert_exporter": "python",
   "pygments_lexer": "ipython3",
   "version": "3.11.9"
  }
 },
 "nbformat": 4,
 "nbformat_minor": 2
}
