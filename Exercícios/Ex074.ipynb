{
 "cells": [
  {
   "cell_type": "code",
   "execution_count": 42,
   "metadata": {},
   "outputs": [
    {
     "name": "stdout",
     "output_type": "stream",
     "text": [
      "Os valores sorteados foram:\n",
      " 9  6  5  0  1 \n",
      "O maior valor sorteado foi: 9\n",
      "O menor valor sorteado foi: 0\n"
     ]
    }
   ],
   "source": [
    "#Desafio 74\n",
    "from random import randint\n",
    "\n",
    "numeros = (randint(0, 10), randint(1, 10), randint(0, 10), randint(0, 10), randint(0, 10), )\n",
    "\n",
    "print('Os valores sorteados foram:')\n",
    "for n in numeros:\n",
    "    print(f' {n} ', end='')\n",
    "\n",
    "print(f'\\nO maior valor sorteado foi: {max(numeros)}')\n",
    "print(f'O menor valor sorteado foi: {min(numeros)}')\n"
   ]
  },
  {
   "cell_type": "markdown",
   "metadata": {},
   "source": []
  }
 ],
 "metadata": {
  "kernelspec": {
   "display_name": "Python 3",
   "language": "python",
   "name": "python3"
  },
  "language_info": {
   "codemirror_mode": {
    "name": "ipython",
    "version": 3
   },
   "file_extension": ".py",
   "mimetype": "text/x-python",
   "name": "python",
   "nbconvert_exporter": "python",
   "pygments_lexer": "ipython3",
   "version": "3.11.9"
  }
 },
 "nbformat": 4,
 "nbformat_minor": 2
}
