{
 "cells": [
  {
   "cell_type": "code",
   "execution_count": 18,
   "metadata": {},
   "outputs": [
    {
     "name": "stdout",
     "output_type": "stream",
     "text": [
      "Você digitou: (8, 2, 3, 9)\n",
      "O 9 apareceu 1 vezes\n",
      "O 3 apareceu na 3° posição\n",
      "Os valores pares são: 8 2 "
     ]
    }
   ],
   "source": [
    "\n",
    "num = (int(input('Digite um Valores: ')), int(input('Digite outro Valores: ')), int(input('Digite outro Valores: ')), int(input('Digite outro Valores: ')))\n",
    "\n",
    "print(f'Você digitou: {num}')\n",
    "print(f'O 9 apareceu {num.count(9)} vezes')\n",
    "if 3 in num:\n",
    "    print(f'O 3 apareceu na {num.index(3)+1}° posição')\n",
    "else:\n",
    "    print('O valor 3 não foi encontrado!')\n",
    "print(f'Os valores pares são: ', end='')\n",
    "for n in num:\n",
    "    if n % 2 == 0:\n",
    "        print(n, end=' ')"
   ]
  }
 ],
 "metadata": {
  "kernelspec": {
   "display_name": "Python 3",
   "language": "python",
   "name": "python3"
  },
  "language_info": {
   "codemirror_mode": {
    "name": "ipython",
    "version": 3
   },
   "file_extension": ".py",
   "mimetype": "text/x-python",
   "name": "python",
   "nbconvert_exporter": "python",
   "pygments_lexer": "ipython3",
   "version": "3.11.9"
  }
 },
 "nbformat": 4,
 "nbformat_minor": 2
}
