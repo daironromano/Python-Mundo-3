{
 "cells": [
  {
   "cell_type": "code",
   "execution_count": 23,
   "metadata": {},
   "outputs": [
    {
     "name": "stdout",
     "output_type": "stream",
     "text": [
      "\n",
      "Na palavra AMOR temos a o \n",
      "Na palavra ALEGRIA temos a e i a \n",
      "Na palavra SOLTEIRO temos o e i o \n",
      "Na palavra DIVERSAO temos i e a o \n",
      "Na palavra LABIRINTO temos a i i o \n",
      "Na palavra DAIRON temos a i o \n",
      "Na palavra GEOGRAFIA temos e o a i a \n",
      "Na palavra MATEMATICA temos a e a i a \n",
      "Na palavra BOTECO temos o e o \n",
      "Na palavra FUTEBOL temos u e o "
     ]
    }
   ],
   "source": [
    "palavras = ('amor', 'alegria', 'solteiro', 'diversao',\n",
    "            'labirinto', 'dairon', 'geografia', 'matematica',\n",
    "            'boteco', 'futebol')\n",
    "for p in palavras:\n",
    "    print(f'\\nNa palavra {p.upper()} temos', end=' ')\n",
    "    for letra in p:\n",
    "        if letra.lower() in 'aeiou':\n",
    "            print(letra, end=' ')"
   ]
  }
 ],
 "metadata": {
  "kernelspec": {
   "display_name": "Python 3",
   "language": "python",
   "name": "python3"
  },
  "language_info": {
   "codemirror_mode": {
    "name": "ipython",
    "version": 3
   },
   "file_extension": ".py",
   "mimetype": "text/x-python",
   "name": "python",
   "nbconvert_exporter": "python",
   "pygments_lexer": "ipython3",
   "version": "3.11.9"
  }
 },
 "nbformat": 4,
 "nbformat_minor": 2
}
